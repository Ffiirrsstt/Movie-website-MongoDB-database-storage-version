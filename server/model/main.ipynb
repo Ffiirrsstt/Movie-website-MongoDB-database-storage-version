{
 "cells": [
  {
   "cell_type": "code",
   "execution_count": 2,
   "metadata": {},
   "outputs": [],
   "source": [
    "import tensorflow.keras as keras\n",
    "import pandas as pd\n",
    "import numpy as np\n",
    "import pythainlp as pythai"
   ]
  },
  {
   "cell_type": "code",
   "execution_count": 4,
   "metadata": {},
   "outputs": [
    {
     "data": {
      "text/html": [
       "<div>\n",
       "<style scoped>\n",
       "    .dataframe tbody tr th:only-of-type {\n",
       "        vertical-align: middle;\n",
       "    }\n",
       "\n",
       "    .dataframe tbody tr th {\n",
       "        vertical-align: top;\n",
       "    }\n",
       "\n",
       "    .dataframe thead th {\n",
       "        text-align: right;\n",
       "    }\n",
       "</style>\n",
       "<table border=\"1\" class=\"dataframe\">\n",
       "  <thead>\n",
       "    <tr style=\"text-align: right;\">\n",
       "      <th></th>\n",
       "      <th>review</th>\n",
       "      <th>sentiment</th>\n",
       "    </tr>\n",
       "  </thead>\n",
       "  <tbody>\n",
       "    <tr>\n",
       "      <th>0</th>\n",
       "      <td>นักแสดงแสดงดี</td>\n",
       "      <td>positive</td>\n",
       "    </tr>\n",
       "    <tr>\n",
       "      <th>1</th>\n",
       "      <td>เล่นดี</td>\n",
       "      <td>positive</td>\n",
       "    </tr>\n",
       "    <tr>\n",
       "      <th>2</th>\n",
       "      <td>สวยมากกกกกกกก</td>\n",
       "      <td>positive</td>\n",
       "    </tr>\n",
       "    <tr>\n",
       "      <th>3</th>\n",
       "      <td>งามค่ะ</td>\n",
       "      <td>positive</td>\n",
       "    </tr>\n",
       "    <tr>\n",
       "      <th>4</th>\n",
       "      <td>ปังมากแม่</td>\n",
       "      <td>positive</td>\n",
       "    </tr>\n",
       "  </tbody>\n",
       "</table>\n",
       "</div>"
      ],
      "text/plain": [
       "          review sentiment\n",
       "0  นักแสดงแสดงดี  positive\n",
       "1         เล่นดี  positive\n",
       "2  สวยมากกกกกกกก  positive\n",
       "3         งามค่ะ  positive\n",
       "4      ปังมากแม่  positive"
      ]
     },
     "execution_count": 4,
     "metadata": {},
     "output_type": "execute_result"
    }
   ],
   "source": [
    "# data = pd.read_csv('datasets/review_shopping.csv', sep='\\t', encoding='utf-8', header=None)\n",
    "# data = pd.concat([data, pd.read_csv('datasets/general-amy.csv', sep='\\t', encoding='utf-8', header=None)])\n",
    "# data = pd.concat([data, pd.read_csv('datasets/tcas61.csv', sep='\\t', encoding='utf-8', header=None)])\n",
    "# data.columns = ['review', 'sentiment']\n",
    "\n",
    "data = pd.read_csv('datasetsReview/pos.csv', sep='\\t', encoding='utf-8')\n",
    "data = pd.concat([data, pd.read_csv('datasetsReview/neq.csv', sep='\\t', encoding='utf-8')])\n",
    "data = pd.concat([data, pd.read_csv('datasetsReview/test.csv', sep='\\t', encoding='utf-8')])\n",
    "data.head()"
   ]
  },
  {
   "cell_type": "code",
   "execution_count": null,
   "metadata": {},
   "outputs": [
    {
     "data": {
      "text/html": [
       "<div>\n",
       "<style scoped>\n",
       "    .dataframe tbody tr th:only-of-type {\n",
       "        vertical-align: middle;\n",
       "    }\n",
       "\n",
       "    .dataframe tbody tr th {\n",
       "        vertical-align: top;\n",
       "    }\n",
       "\n",
       "    .dataframe thead th {\n",
       "        text-align: right;\n",
       "    }\n",
       "</style>\n",
       "<table border=\"1\" class=\"dataframe\">\n",
       "  <thead>\n",
       "    <tr style=\"text-align: right;\">\n",
       "      <th></th>\n",
       "      <th>review</th>\n",
       "      <th>sentiment</th>\n",
       "    </tr>\n",
       "  </thead>\n",
       "  <tbody>\n",
       "    <tr>\n",
       "      <th>0</th>\n",
       "      <td>[นักแสดง, แสดง, ดี]</td>\n",
       "      <td>1</td>\n",
       "    </tr>\n",
       "    <tr>\n",
       "      <th>1</th>\n",
       "      <td>[เล่น, ดี]</td>\n",
       "      <td>1</td>\n",
       "    </tr>\n",
       "    <tr>\n",
       "      <th>2</th>\n",
       "      <td>[สวย, มา, กก, กก, กก, กก]</td>\n",
       "      <td>1</td>\n",
       "    </tr>\n",
       "    <tr>\n",
       "      <th>3</th>\n",
       "      <td>[งาม, ค่ะ]</td>\n",
       "      <td>1</td>\n",
       "    </tr>\n",
       "    <tr>\n",
       "      <th>4</th>\n",
       "      <td>[ปัง, มาก, แม่]</td>\n",
       "      <td>1</td>\n",
       "    </tr>\n",
       "  </tbody>\n",
       "</table>\n",
       "</div>"
      ],
      "text/plain": [
       "                      review  sentiment\n",
       "0        [นักแสดง, แสดง, ดี]          1\n",
       "1                 [เล่น, ดี]          1\n",
       "2  [สวย, มา, กก, กก, กก, กก]          1\n",
       "3                 [งาม, ค่ะ]          1\n",
       "4            [ปัง, มาก, แม่]          1"
      ]
     },
     "execution_count": 54,
     "metadata": {},
     "output_type": "execute_result"
    }
   ],
   "source": [
    "data = data.dropna()\n",
    "# tokenize\n",
    "data['review'] = data['review'].apply(lambda x: pythai.word_tokenize(x, engine='newmm'))\n",
    "data['sentiment'] = data['sentiment'].map({'positive': 1, 'negative': 0})\n",
    "data.head()"
   ]
  },
  {
   "cell_type": "code",
   "execution_count": null,
   "metadata": {},
   "outputs": [
    {
     "name": "stdout",
     "output_type": "stream",
     "text": [
      "Sample: [ 82  15  45   2 234 235 236  16  83   2 128 237  52 128  84 129 238  19\n",
      " 239   0   0   0   0   0   0   0   0   0   0   0   0   0   0   0   0   0\n",
      "   0   0   0   0   0   0   0   0   0   0   0   0   0   0   0   0   0   0\n",
      "   0   0   0   0   0   0]\n"
     ]
    }
   ],
   "source": [
    "from tensorflow.keras.preprocessing.text import Tokenizer\n",
    "from tensorflow.keras.preprocessing.sequence import pad_sequences\n",
    "\n",
    "tokenizer = Tokenizer(num_words=10000, oov_token='<UNK>')\n",
    "tokenizer.fit_on_texts(data['review'])\n",
    "word_index = tokenizer.word_index\n",
    "sequences = tokenizer.texts_to_sequences(data['review'])\n",
    "padded = pad_sequences(sequences, maxlen=60, padding='post', truncating='post')\n",
    "print('Sample:', padded[20])"
   ]
  },
  {
   "cell_type": "code",
   "execution_count": null,
   "metadata": {},
   "outputs": [
    {
     "data": {
      "text/plain": [
       "['คอสตูม อย่าง ปัง   เสื้อผ้า หน้า ผม ก็ สุดยอด   ยิ่ง เพลง นี่ ยิ่ง เพราะ จน น้ำตา จะ ไหล <UNK> <UNK> <UNK> <UNK> <UNK> <UNK> <UNK> <UNK> <UNK> <UNK> <UNK> <UNK> <UNK> <UNK> <UNK> <UNK> <UNK> <UNK> <UNK> <UNK> <UNK> <UNK> <UNK> <UNK> <UNK> <UNK> <UNK> <UNK> <UNK> <UNK> <UNK> <UNK> <UNK> <UNK> <UNK> <UNK> <UNK> <UNK> <UNK> <UNK> <UNK>']"
      ]
     },
     "execution_count": 56,
     "metadata": {},
     "output_type": "execute_result"
    }
   ],
   "source": [
    "test = padded[20]\n",
    "# to text\n",
    "tokenizer.sequences_to_texts([test])"
   ]
  },
  {
   "cell_type": "code",
   "execution_count": null,
   "metadata": {},
   "outputs": [
    {
     "name": "stdout",
     "output_type": "stream",
     "text": [
      "203\n",
      "Train data: (163, 60)\n",
      "Test data: (40, 60)\n"
     ]
    }
   ],
   "source": [
    "print(data.shape[0])\n",
    "# train data\n",
    "train_data = padded[:203]\n",
    "train_sentiment = data['sentiment'][:203]\n",
    "# test data\n",
    "test_data = padded[163:]\n",
    "test_sentiment = data['sentiment'][163:]\n",
    "full = False\n",
    "if full:\n",
    "    train_data = padded\n",
    "    train_sentiment = data['sentiment']\n",
    "# train data, test data\n",
    "print('Train data:', train_data.shape)\n",
    "print('Test data:', test_data.shape)"
   ]
  },
  {
   "cell_type": "code",
   "execution_count": null,
   "metadata": {},
   "outputs": [],
   "source": [
    "# create simple model\n",
    "model = keras.Sequential([\n",
    "    keras.layers.Embedding(10000, 16, input_length=60),\n",
    "    keras.layers.GlobalAveragePooling1D(),\n",
    "    keras.layers.Dense(16, activation='relu'),\n",
    "    keras.layers.Dense(1, activation='sigmoid')\n",
    "])"
   ]
  },
  {
   "cell_type": "code",
   "execution_count": null,
   "metadata": {},
   "outputs": [
    {
     "name": "stdout",
     "output_type": "stream",
     "text": [
      "Epoch 1/100\n"
     ]
    },
    {
     "name": "stdout",
     "output_type": "stream",
     "text": [
      "6/6 [==============================] - 1s 32ms/step - loss: 0.6966 - accuracy: 0.3620 - val_loss: 0.6984 - val_accuracy: 0.0000e+00\n",
      "Epoch 2/100\n",
      "6/6 [==============================] - 0s 7ms/step - loss: 0.6889 - accuracy: 0.6442 - val_loss: 0.7246 - val_accuracy: 0.0000e+00\n",
      "Epoch 3/100\n",
      "6/6 [==============================] - 0s 7ms/step - loss: 0.6824 - accuracy: 0.6442 - val_loss: 0.7417 - val_accuracy: 0.0000e+00\n",
      "Epoch 4/100\n",
      "6/6 [==============================] - 0s 7ms/step - loss: 0.6783 - accuracy: 0.6442 - val_loss: 0.7542 - val_accuracy: 0.0000e+00\n",
      "Epoch 5/100\n",
      "6/6 [==============================] - 0s 7ms/step - loss: 0.6754 - accuracy: 0.6442 - val_loss: 0.7670 - val_accuracy: 0.0000e+00\n",
      "Epoch 6/100\n",
      "6/6 [==============================] - 0s 7ms/step - loss: 0.6727 - accuracy: 0.6442 - val_loss: 0.7772 - val_accuracy: 0.0000e+00\n",
      "Epoch 7/100\n",
      "6/6 [==============================] - 0s 7ms/step - loss: 0.6706 - accuracy: 0.6442 - val_loss: 0.7875 - val_accuracy: 0.0000e+00\n",
      "Epoch 8/100\n",
      "6/6 [==============================] - 0s 7ms/step - loss: 0.6676 - accuracy: 0.6442 - val_loss: 0.7982 - val_accuracy: 0.0000e+00\n",
      "Epoch 9/100\n",
      "6/6 [==============================] - 0s 6ms/step - loss: 0.6651 - accuracy: 0.6442 - val_loss: 0.8118 - val_accuracy: 0.0000e+00\n",
      "Epoch 10/100\n",
      "6/6 [==============================] - 0s 7ms/step - loss: 0.6626 - accuracy: 0.6442 - val_loss: 0.8291 - val_accuracy: 0.0000e+00\n",
      "Epoch 11/100\n",
      "6/6 [==============================] - 0s 7ms/step - loss: 0.6595 - accuracy: 0.6442 - val_loss: 0.8443 - val_accuracy: 0.0000e+00\n",
      "Epoch 12/100\n",
      "6/6 [==============================] - 0s 7ms/step - loss: 0.6572 - accuracy: 0.6442 - val_loss: 0.8561 - val_accuracy: 0.0000e+00\n",
      "Epoch 13/100\n",
      "6/6 [==============================] - 0s 7ms/step - loss: 0.6550 - accuracy: 0.6442 - val_loss: 0.8673 - val_accuracy: 0.0000e+00\n",
      "Epoch 14/100\n",
      "6/6 [==============================] - 0s 7ms/step - loss: 0.6534 - accuracy: 0.6442 - val_loss: 0.8730 - val_accuracy: 0.0000e+00\n",
      "Epoch 15/100\n",
      "6/6 [==============================] - 0s 7ms/step - loss: 0.6521 - accuracy: 0.6442 - val_loss: 0.8826 - val_accuracy: 0.0000e+00\n",
      "Epoch 16/100\n",
      "6/6 [==============================] - 0s 7ms/step - loss: 0.6506 - accuracy: 0.6442 - val_loss: 0.8954 - val_accuracy: 0.0000e+00\n",
      "Epoch 17/100\n",
      "6/6 [==============================] - 0s 7ms/step - loss: 0.6482 - accuracy: 0.6442 - val_loss: 0.9063 - val_accuracy: 0.0000e+00\n",
      "Epoch 18/100\n",
      "6/6 [==============================] - 0s 8ms/step - loss: 0.6467 - accuracy: 0.6442 - val_loss: 0.9214 - val_accuracy: 0.0000e+00\n",
      "Epoch 19/100\n",
      "6/6 [==============================] - 0s 7ms/step - loss: 0.6441 - accuracy: 0.6442 - val_loss: 0.9391 - val_accuracy: 0.0000e+00\n",
      "Epoch 20/100\n",
      "6/6 [==============================] - 0s 8ms/step - loss: 0.6428 - accuracy: 0.6442 - val_loss: 0.9577 - val_accuracy: 0.0000e+00\n",
      "Epoch 21/100\n",
      "6/6 [==============================] - 0s 7ms/step - loss: 0.6406 - accuracy: 0.6442 - val_loss: 0.9736 - val_accuracy: 0.0000e+00\n",
      "Epoch 22/100\n",
      "6/6 [==============================] - 0s 7ms/step - loss: 0.6391 - accuracy: 0.6442 - val_loss: 0.9908 - val_accuracy: 0.0000e+00\n",
      "Epoch 23/100\n",
      "6/6 [==============================] - 0s 7ms/step - loss: 0.6371 - accuracy: 0.6442 - val_loss: 1.0111 - val_accuracy: 0.0000e+00\n",
      "Epoch 24/100\n",
      "6/6 [==============================] - 0s 7ms/step - loss: 0.6356 - accuracy: 0.6442 - val_loss: 1.0348 - val_accuracy: 0.0000e+00\n",
      "Epoch 25/100\n",
      "6/6 [==============================] - 0s 7ms/step - loss: 0.6349 - accuracy: 0.6442 - val_loss: 1.0579 - val_accuracy: 0.0000e+00\n",
      "Epoch 26/100\n",
      "6/6 [==============================] - 0s 7ms/step - loss: 0.6333 - accuracy: 0.6442 - val_loss: 1.0643 - val_accuracy: 0.0000e+00\n",
      "Epoch 27/100\n",
      "6/6 [==============================] - 0s 7ms/step - loss: 0.6322 - accuracy: 0.6442 - val_loss: 1.0674 - val_accuracy: 0.0000e+00\n",
      "Epoch 28/100\n",
      "6/6 [==============================] - 0s 7ms/step - loss: 0.6311 - accuracy: 0.6442 - val_loss: 1.0711 - val_accuracy: 0.0000e+00\n",
      "Epoch 29/100\n",
      "6/6 [==============================] - 0s 7ms/step - loss: 0.6300 - accuracy: 0.6442 - val_loss: 1.0746 - val_accuracy: 0.0000e+00\n",
      "Epoch 30/100\n",
      "6/6 [==============================] - 0s 7ms/step - loss: 0.6289 - accuracy: 0.6442 - val_loss: 1.0779 - val_accuracy: 0.0000e+00\n",
      "Epoch 31/100\n",
      "6/6 [==============================] - 0s 7ms/step - loss: 0.6276 - accuracy: 0.6442 - val_loss: 1.0782 - val_accuracy: 0.0000e+00\n"
     ]
    },
    {
     "data": {
      "text/plain": [
       "<keras.callbacks.History at 0x22db39b3ed0>"
      ]
     },
     "execution_count": 59,
     "metadata": {},
     "output_type": "execute_result"
    }
   ],
   "source": [
    "# train model\n",
    "model.compile(optimizer='adam', loss='binary_crossentropy', metrics=['accuracy'])\n",
    "# early stop\n",
    "early_stop = keras.callbacks.EarlyStopping(monitor='val_loss', patience=30)\n",
    "# train\n",
    "model.fit(train_data, train_sentiment, epochs=100, validation_data=(test_data, test_sentiment), callbacks=[early_stop])"
   ]
  },
  {
   "cell_type": "code",
   "execution_count": null,
   "metadata": {},
   "outputs": [
    {
     "name": "stdout",
     "output_type": "stream",
     "text": [
      "2/2 [==============================] - 0s 2ms/step\n"
     ]
    },
    {
     "data": {
      "image/png": "[encoded data removed]",
      "text/plain": [
       "<Figure size 640x480 with 2 Axes>"
      ]
     },
     "metadata": {},
     "output_type": "display_data"
    },
    {
     "name": "stdout",
     "output_type": "stream",
     "text": [
      "              precision    recall  f1-score   support\n",
      "\n",
      "         0.0       0.00      0.00      0.00      40.0\n",
      "         1.0       0.00      0.00      0.00       0.0\n",
      "\n",
      "    accuracy                           0.00      40.0\n",
      "   macro avg       0.00      0.00      0.00      40.0\n",
      "weighted avg       0.00      0.00      0.00      40.0\n",
      "\n"
     ]
    },
    {
     "name": "stderr",
     "output_type": "stream",
     "text": [
      "c:\\Users\\LENOVO\\AppData\\Local\\Programs\\Python\\Python311\\Lib\\site-packages\\sklearn\\metrics\\_classification.py:1344: UndefinedMetricWarning: Precision and F-score are ill-defined and being set to 0.0 in labels with no predicted samples. Use `zero_division` parameter to control this behavior.\n",
      "  _warn_prf(average, modifier, msg_start, len(result))\n",
      "c:\\Users\\LENOVO\\AppData\\Local\\Programs\\Python\\Python311\\Lib\\site-packages\\sklearn\\metrics\\_classification.py:1344: UndefinedMetricWarning: Recall and F-score are ill-defined and being set to 0.0 in labels with no true samples. Use `zero_division` parameter to control this behavior.\n",
      "  _warn_prf(average, modifier, msg_start, len(result))\n",
      "c:\\Users\\LENOVO\\AppData\\Local\\Programs\\Python\\Python311\\Lib\\site-packages\\sklearn\\metrics\\_classification.py:1344: UndefinedMetricWarning: Precision and F-score are ill-defined and being set to 0.0 in labels with no predicted samples. Use `zero_division` parameter to control this behavior.\n",
      "  _warn_prf(average, modifier, msg_start, len(result))\n",
      "c:\\Users\\LENOVO\\AppData\\Local\\Programs\\Python\\Python311\\Lib\\site-packages\\sklearn\\metrics\\_classification.py:1344: UndefinedMetricWarning: Recall and F-score are ill-defined and being set to 0.0 in labels with no true samples. Use `zero_division` parameter to control this behavior.\n",
      "  _warn_prf(average, modifier, msg_start, len(result))\n",
      "c:\\Users\\LENOVO\\AppData\\Local\\Programs\\Python\\Python311\\Lib\\site-packages\\sklearn\\metrics\\_classification.py:1344: UndefinedMetricWarning: Precision and F-score are ill-defined and being set to 0.0 in labels with no predicted samples. Use `zero_division` parameter to control this behavior.\n",
      "  _warn_prf(average, modifier, msg_start, len(result))\n",
      "c:\\Users\\LENOVO\\AppData\\Local\\Programs\\Python\\Python311\\Lib\\site-packages\\sklearn\\metrics\\_classification.py:1344: UndefinedMetricWarning: Recall and F-score are ill-defined and being set to 0.0 in labels with no true samples. Use `zero_division` parameter to control this behavior.\n",
      "  _warn_prf(average, modifier, msg_start, len(result))\n"
     ]
    }
   ],
   "source": [
    "# evaluate report\n",
    "from sklearn.metrics import classification_report\n",
    "# confusion matrix\n",
    "from sklearn.metrics import confusion_matrix\n",
    "import seaborn as sns\n",
    "import matplotlib.pyplot as plt\n",
    "y_pred = model.predict(test_data)\n",
    "y_pred = np.round(y_pred)\n",
    "cm = confusion_matrix(test_sentiment, y_pred)\n",
    "sns.heatmap(cm, annot=True, fmt='d')\n",
    "plt.show()\n",
    "print(classification_report(test_sentiment, y_pred))"
   ]
  },
  {
   "cell_type": "code",
   "execution_count": null,
   "metadata": {},
   "outputs": [],
   "source": [
    "# save model\n",
    "model.save('weight/model.h5')"
   ]
  },
  {
   "cell_type": "code",
   "execution_count": null,
   "metadata": {},
   "outputs": [],
   "source": [
    "# load weight\n",
    "# model = keras.models.load_model('./weight/model.h5')\n",
    "# # save tokenizer\n",
    "# tokenizer.save(\"weight/tokenizer.h5\")\n",
    "# # evaluate\n",
    "# model.evaluate(test_data, test_sentiment)"
   ]
  },
  {
   "cell_type": "code",
   "execution_count": null,
   "metadata": {},
   "outputs": [],
   "source": [
    "def predict(text, decode=False):\n",
    "    text = pythai.word_tokenize(text, engine='newmm')\n",
    "    text = tokenizer.texts_to_sequences([text])\n",
    "    text = pad_sequences(text, maxlen=60, padding='post', truncating='post')\n",
    "    predict = model.predict(text)\n",
    "    rounded = np.round(predict)\n",
    "    if decode:\n",
    "        return 'pos' if rounded == 1 else 'neg'\n",
    "    return rounded"
   ]
  },
  {
   "cell_type": "code",
   "execution_count": null,
   "metadata": {},
   "outputs": [
    {
     "name": "stdout",
     "output_type": "stream",
     "text": [
      "1/1 [==============================] - 0s 20ms/step\n"
     ]
    },
    {
     "data": {
      "text/plain": [
       "'pos'"
      ]
     },
     "execution_count": 64,
     "metadata": {},
     "output_type": "execute_result"
    }
   ],
   "source": [
    "# predict\n",
    "pred = predict('ห่วยแตก', decode=True)\n",
    "pred"
   ]
  },
  {
   "cell_type": "code",
   "execution_count": null,
   "metadata": {},
   "outputs": [],
   "source": []
  }
 ],
 "metadata": {
  "kernelspec": {
   "display_name": "Python 3",
   "language": "python",
   "name": "python3"
  },
  "language_info": {
   "codemirror_mode": {
    "name": "ipython",
    "version": 3
   },
   "file_extension": ".py",
   "mimetype": "text/x-python",
   "name": "python",
   "nbconvert_exporter": "python",
   "pygments_lexer": "ipython3",
   "version": "3.11.3"
  }
 },
 "nbformat": 4,
 "nbformat_minor": 2
}
